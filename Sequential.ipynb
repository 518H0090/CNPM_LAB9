{
 "cells": [
  {
   "cell_type": "code",
   "execution_count": 7,
   "metadata": {},
   "outputs": [
    {
     "name": "stdout",
     "output_type": "stream",
     "text": [
      "Phần tử thứ 3 và nằm ở vị trí thứ 4 trong mảng\n"
     ]
    }
   ],
   "source": [
    "def Sequential(A,K):\n",
    "    n = len(A)\n",
    "    i = 0\n",
    "    while A[i] != K :\n",
    "        i += 1\n",
    "    if i < n :\n",
    "        return i\n",
    "    return -1\n",
    "\n",
    "A = [10,20,30,40,50,60,5]\n",
    "K = 40\n",
    "\n",
    "print( \"Phần tử thứ :%d và nằm ở vị trí thứ :%d trong mảng\" %(Sequential(A,K),Sequential(A,K)+1 ))"
   ]
  },
  {
   "cell_type": "code",
   "execution_count": null,
   "metadata": {},
   "outputs": [],
   "source": []
  }
 ],
 "metadata": {
  "kernelspec": {
   "display_name": "Python 3",
   "language": "python",
   "name": "python3"
  },
  "language_info": {
   "codemirror_mode": {
    "name": "ipython",
    "version": 3
   },
   "file_extension": ".py",
   "mimetype": "text/x-python",
   "name": "python",
   "nbconvert_exporter": "python",
   "pygments_lexer": "ipython3",
   "version": "3.8.3"
  }
 },
 "nbformat": 4,
 "nbformat_minor": 4
}
